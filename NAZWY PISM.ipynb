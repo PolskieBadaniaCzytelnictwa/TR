{
 "cells": [
  {
   "cell_type": "code",
   "execution_count": 1,
   "id": "7a4120b8",
   "metadata": {},
   "outputs": [],
   "source": [
    "import pandas as pd"
   ]
  },
  {
   "cell_type": "code",
   "execution_count": 6,
   "id": "1847dbe2",
   "metadata": {},
   "outputs": [],
   "source": [
    "df = pd.read_excel('TBR/TBR_9m.xlsx')"
   ]
  },
  {
   "cell_type": "code",
   "execution_count": 9,
   "id": "8ad0cc8e",
   "metadata": {},
   "outputs": [],
   "source": [
    "opis = pd.read_excel('Z:/REALIZACJA/PBC Opis Tytułów i zmiennych_RCH.xlsx')"
   ]
  },
  {
   "cell_type": "code",
   "execution_count": 13,
   "id": "dc484fc9",
   "metadata": {},
   "outputs": [],
   "source": [
    "opis = dict(zip(opis['nazwa tytułu w SRE'],opis['Aktualna zmienna']))"
   ]
  },
  {
   "cell_type": "code",
   "execution_count": 16,
   "id": "e653984b",
   "metadata": {},
   "outputs": [],
   "source": [
    "df['PISMO'] = df['tytuł'].map(opis)"
   ]
  },
  {
   "cell_type": "code",
   "execution_count": 19,
   "id": "a869a6f6",
   "metadata": {},
   "outputs": [],
   "source": [
    "df.to_excel('TBR/TR360.xlsx')"
   ]
  },
  {
   "cell_type": "code",
   "execution_count": null,
   "id": "e6a7e48d",
   "metadata": {},
   "outputs": [],
   "source": []
  }
 ],
 "metadata": {
  "kernelspec": {
   "display_name": "Python 3 (ipykernel)",
   "language": "python",
   "name": "python3"
  },
  "language_info": {
   "codemirror_mode": {
    "name": "ipython",
    "version": 3
   },
   "file_extension": ".py",
   "mimetype": "text/x-python",
   "name": "python",
   "nbconvert_exporter": "python",
   "pygments_lexer": "ipython3",
   "version": "3.9.13"
  }
 },
 "nbformat": 4,
 "nbformat_minor": 5
}
